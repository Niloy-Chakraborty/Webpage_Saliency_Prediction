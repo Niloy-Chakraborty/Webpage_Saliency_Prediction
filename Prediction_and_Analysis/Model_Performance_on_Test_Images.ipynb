{
 "cells": [
  {
   "cell_type": "markdown",
   "metadata": {
    "colab_type": "text",
    "id": "9IAkwZUE46am"
   },
   "source": [
    "**Script Name:** Model_Performance_on_Test_Images.ipynb\n",
    "\n",
    "**Function:** This script test the performance of the Website Saliency Model on the test data.The heatmap for the test data has been generated at the very begining. So For this prediction, the only preprocessing needs to be done is mean value subtraction and image resizing to 224*224"
   ]
  },
  {
   "cell_type": "code",
   "execution_count": null,
   "metadata": {
    "colab": {
     "base_uri": "https://localhost:8080/",
     "height": 122
    },
    "colab_type": "code",
    "id": "VGjWjI3ivFmr",
    "outputId": "a37f868b-ea11-45cc-ce1e-a278ee3d2e30",
    "pycharm": {
     "is_executing": true
    }
   },
   "outputs": [],
   "source": [
    "# Connect to the Google\n",
    "# from google.colab import drive\n",
    "# drive.mount('/content/drive')"
   ]
  },
  {
   "cell_type": "code",
   "execution_count": null,
   "metadata": {
    "colab": {
     "base_uri": "https://localhost:8080/",
     "height": 63
    },
    "colab_type": "code",
    "id": "TOGouW3hKyV9",
    "outputId": "865b1b74-0494-4f8f-d19f-8c87f3967547"
   },
   "outputs": [],
   "source": [
    "# import all the dependencies\n",
    "import cv2, os\n",
    "import numpy as np\n",
    "import matplotlib.pyplot as plt\n",
    "import tensorflow\n",
    "import tensorflow.keras\n",
    "from tensorflow.keras.models import load_model\n",
    "from PIL import Image"
   ]
  },
  {
   "cell_type": "markdown",
   "metadata": {
    "colab_type": "text",
    "id": "XKpwaXk97Vxs"
   },
   "source": [
    "Preprocess the Test images"
   ]
  },
  {
   "cell_type": "code",
   "execution_count": null,
   "metadata": {
    "colab": {
     "base_uri": "https://localhost:8080/",
     "height": 1000
    },
    "colab_type": "code",
    "id": "wqwGFofxK4iv",
    "outputId": "d2a254f3-a74f-4e2a-80af-c43886a56dc3"
   },
   "outputs": [],
   "source": [
    "from PIL import Image\n",
    "\n",
    "n_classes=1\n",
    "meanval= (192.19138, 191.60353, 190.41075)\n",
    "#meanval=(104.00699, 116.66877, 122.67892)\n",
    "\n",
    "# Uncomment and specify path for the Data\n",
    "\n",
    "dir_data = \"E:/Webpage_Saliency_Prediction/Prediction_and_Analysis/Evaluation_Data/test_case_stimuli/\"\n",
    "#dir_data = \"/content/drive/My Drive/HCI_prep/Prediction_and_Analysis/Generalization_Data/MIT_Dataset/test_stimuli/\"\n",
    "#dir_data = \"/content/drive/My Drive/HCI_prep/Prediction_and_Analysis/Generalization_Data/Massvis/stimuli/\"\n",
    "\n",
    "input_width, input_height=224,224\n",
    "\n",
    "'''\n",
    "Function Name: ImageArr()\n",
    "Parameters: path, width, height,title\n",
    "Functionalities: 1) Resizing to 224*224\n",
    "                 2) Mean Value Reduction\n",
    "\n",
    "Returns: preprocessed image \n",
    "'''\n",
    "def ImageArr(path, width, height,title):\n",
    "    print(title)\n",
    "\n",
    "    # read the image from the path\n",
    "    img = cv2.imread(path,1)\n",
    "   \n",
    "    # Resize image 224*224\n",
    "    img = np.float32(cv2.resize(img, (width, height))) #/ 127.5 - 1\n",
    "\n",
    "    # Meanvalue reduction\n",
    "    img = cv2.cvtColor(img, cv2.COLOR_RGB2BGR)\n",
    "    img -= meanval\n",
    "    #print(img)\n",
    "    plt.imshow(img)\n",
    "    plt.show()\n",
    "    return img\n",
    "\n",
    "images_data = os.listdir(dir_data)\n",
    "images_data.sort()\n",
    "print(\"sorted\",images_data)\n",
    "\n",
    "\n",
    "X = []\n",
    "\n",
    "# Append the preprocssed images in the list\n",
    "for im in images_data:\n",
    "    X.append(ImageArr(dir_data+im, input_width, input_height,im))\n",
    "  \n",
    "\n",
    "\n",
    "X = np.array(X)\n",
    "print(X.shape)"
   ]
  },
  {
   "cell_type": "markdown",
   "metadata": {
    "colab_type": "text",
    "id": "cXcpxm6b7Zvt"
   },
   "source": [
    "Predict Saliency for Test Images"
   ]
  },
  {
   "cell_type": "code",
   "execution_count": null,
   "metadata": {
    "colab": {
     "base_uri": "https://localhost:8080/",
     "height": 1000
    },
    "colab_type": "code",
    "id": "rWhoKuKeKcMB",
    "outputId": "c0c5a507-109d-4dd4-b131-3e6474678ac2"
   },
   "outputs": [],
   "source": [
    "\n",
    "# Load the saved model\n",
    "#with_weights_FiWi_fcn_25_02_2020_02_try57.h5\n",
    "#with_weights_FiWi_fcn_24_02_2020_02_try57.h5\n",
    "#with_weights_FiWi_fcn_20_01_2020_02.h5\n",
    "#with_weights_FiWi_fcn_27_01_2020_02_try57.h5\n",
    "#with_weights_FiWi_fcn_21_01_2020_02_try57.h5 \n",
    "\n",
    "saved_model = load_model(\"E:/Webpage_Saliency_Prediction/pretrained_model/with_weights_FiWi_fcn_16_latest.h5\")#with_weights_FiWi_fcn_27_02_2020_02_try57.h5\")\n",
    "#img_is = cv2.imread(img)\n",
    "c=1\n",
    "for img_is,name in zip(X,images_data):\n",
    "  print(name)\n",
    "  # show the test image\n",
    "  img_is=cv2.resize(img_is,(224,224))\n",
    "  plt.imshow(img_is)\n",
    "  plt.title(\"test image\")\n",
    "  plt.show()\n",
    "\n",
    "  # The test data was preprocessed before, so no processing is required!\n",
    "  # If not preprocessed then use then use the following commented section.\n",
    "  '''\n",
    "  # Resize the image\n",
    "  width, height= 224,224\n",
    "  img = np.float32(cv2.resize(img_is, ( width, height))) \n",
    "\n",
    "  # Meanvalue reduction\n",
    "  meanval= (192.19138, 191.60353, 190.41075)\n",
    "  # meanval=(104.00699, 116.66877, 122.67892)\n",
    "  img -= meanval\n",
    "\n",
    "  X= np.array(img)\n",
    "  print(X.shape)\n",
    "  #print(X)\n",
    "  '''\n",
    "  \n",
    "  img= img_is.reshape(-1,224,224,3)\n",
    " \n",
    "  # predict the saliency\n",
    "  im_pred= saved_model.predict(img)\n",
    "  print(\"prediction shape\",im_pred.shape)\n",
    "\n",
    "  # print(im_pred.max())\n",
    "  # print(im_pred.min())\n",
    "  # print(im_pred)\n",
    "\n",
    "  rescaled_new= im_pred.reshape(224,224,1)\n",
    "\n",
    "  print(rescaled_new.shape)\n",
    "  print(rescaled_new.max())\n",
    "  \n",
    "  # rescaled_new[rescaled_new <.25] = 0\n",
    "  # rescaled_new[rescaled_new >=.26] = 1\n",
    "  # rescaled_new[rescaled_new >=.16] = 0.5\n",
    "\n",
    "  # data=rescaled_new\n",
    "  # print(rescaled_new)\n",
    "  # rescaled_new= rescaled_new*255.0\n",
    "\n",
    "  # Rescaling accoring to the base-paper\n",
    "  rescaled_new = (255.0 / rescaled_new.max() * (rescaled_new - rescaled_new.min()))\n",
    "  \n",
    "  #im_new = Image.fromarray(rescaled)\n",
    "  rescaled_new=cv2.resize(rescaled_new,(224,224))\n",
    "\n",
    "  # Save the predicted images\n",
    "  \n",
    "  cv2.imwrite( \"E:\\Webpage_Saliency_Prediction\\Prediction_and_Analysis\\Evaluation_Data\\FCN16\\predicted_images\"+str(name), rescaled_new )\n",
    "  #cv2.imwrite( \"/content/drive/My Drive/HCI_prep/Prediction_and_Analysis/Generalization_Data/MIT_Dataset/predicted_image/\"+str(name), rescaled_new )\n",
    "  #cv2.imwrite( \"/content/drive/My Drive/HCI_prep/Prediction_and_Analysis/Generalization_Data/Massvis/predicted_image/\"+str(name), rescaled_new )\n",
    "  plt.imshow(rescaled_new)\n",
    "  plt.title(\"Saliency Map\")\n",
    "  plt.show()\n",
    "  c=c+1"
   ]
  },
  {
   "cell_type": "code",
   "execution_count": null,
   "metadata": {},
   "outputs": [],
   "source": []
  },
  {
   "cell_type": "code",
   "execution_count": null,
   "metadata": {},
   "outputs": [],
   "source": []
  }
 ],
 "metadata": {
  "colab": {
   "name": "Model_Performance_on_Test_Images.ipynb",
   "provenance": []
  },
  "kernelspec": {
   "display_name": "Python 3",
   "language": "python",
   "name": "python3"
  },
  "language_info": {
   "codemirror_mode": {
    "name": "ipython",
    "version": 3
   },
   "file_extension": ".py",
   "mimetype": "text/x-python",
   "name": "python",
   "nbconvert_exporter": "python",
   "pygments_lexer": "ipython3",
   "version": "3.5.2"
  }
 },
 "nbformat": 4,
 "nbformat_minor": 1
}
