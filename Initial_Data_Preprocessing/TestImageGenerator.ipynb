{
  "nbformat": 4,
  "nbformat_minor": 0,
  "metadata": {
    "colab": {
      "name": "TestImageGenerator.ipynb",
      "provenance": []
    },
    "kernelspec": {
      "name": "python3",
      "display_name": "Python 3"
    }
  },
  "cells": [
    {
      "cell_type": "code",
      "metadata": {
        "id": "Go643GMPKhmf",
        "colab_type": "code",
        "colab": {
          "base_uri": "https://localhost:8080/",
          "height": 122
        },
        "outputId": "bbb3ac95-69ea-484b-9335-35edde61efc6"
      },
      "source": [
        "from google.colab import drive\n",
        "drive.mount('/content/drive')"
      ],
      "execution_count": 1,
      "outputs": [
        {
          "output_type": "stream",
          "text": [
            "Go to this URL in a browser: https://accounts.google.com/o/oauth2/auth?client_id=947318989803-6bn6qk8qdgf4n4g3pfee6491hc0brc4i.apps.googleusercontent.com&redirect_uri=urn%3aietf%3awg%3aoauth%3a2.0%3aoob&response_type=code&scope=email%20https%3a%2f%2fwww.googleapis.com%2fauth%2fdocs.test%20https%3a%2f%2fwww.googleapis.com%2fauth%2fdrive%20https%3a%2f%2fwww.googleapis.com%2fauth%2fdrive.photos.readonly%20https%3a%2f%2fwww.googleapis.com%2fauth%2fpeopleapi.readonly\n",
            "\n",
            "Enter your authorization code:\n",
            "··········\n",
            "Mounted at /content/drive\n"
          ],
          "name": "stdout"
        }
      ]
    },
    {
      "cell_type": "code",
      "metadata": {
        "id": "CSg2EVWlKkA2",
        "colab_type": "code",
        "colab": {}
      },
      "source": [
        "import random\n",
        "import shutil\n",
        "import os"
      ],
      "execution_count": 0,
      "outputs": []
    },
    {
      "cell_type": "code",
      "metadata": {
        "id": "MY5NFreTLpeW",
        "colab_type": "code",
        "colab": {
          "base_uri": "https://localhost:8080/",
          "height": 190
        },
        "outputId": "6a4c8c65-9ce9-4150-f9cf-d710a23361b8"
      },
      "source": [
        "rootDir = '/content/drive/My Drive/HCI_prep/Dataset_Website1'\n",
        "eyeFixationDir = os.path.join(rootDir, \"finalHeatMap\")\n",
        "\n",
        "outDir = os.path.join(rootDir, \"test_case_stimuli\")\n",
        "if not os.path.exists(outDir):\n",
        "  os.mkdir(outDir)\n",
        "\n",
        "outDirEyeFixationMap = os.path.join(rootDir, \"Ground_Truth_Eyemap_new\")\n",
        "if not os.path.exists(outDirEyeFixationMap):\n",
        "  os.mkdir(outDirEyeFixationMap)\n",
        "\n",
        "# take randomly images from every subcategory and move them for testing\n",
        "stimuliPictorial = os.path.join(rootDir, \"pictorial\")\n",
        "stimuliText = os.path.join(rootDir, \"text\")\n",
        "stimuliMixed = os.path.join(rootDir, \"mixed\")\n",
        "\n",
        "listOfFilesStimPic = os.listdir(stimuliPictorial)\n",
        "listOfFilesStimText = os.listdir(stimuliText)\n",
        "listOfFilesStimMixed = os.listdir(stimuliMixed)\n",
        "\n",
        "print(listOfFilesStimPic)\n",
        "\n",
        "for i in range(0,3):\n",
        "  index = random.randint(0, len(listOfFilesStimPic))\n",
        "  print(index)\n",
        "  path = os.path.join(stimuliPictorial, listOfFilesStimPic[index])\n",
        "  shutil.move(path, outDir)\n",
        "  path = os.path.join(eyeFixationDir, listOfFilesStimPic[index])\n",
        "  shutil.move(path, outDirEyeFixationMap)\n",
        "\n",
        "\n",
        "  index = random.randint(0, len(listOfFilesStimMixed))\n",
        "  print(index)\n",
        "  path = os.path.join(stimuliMixed, listOfFilesStimMixed[index])\n",
        "  shutil.copy(path, outDir)\n",
        "  path = os.path.join(eyeFixationDir, listOfFilesStimMixed[index])\n",
        "  shutil.move(path, outDirEyeFixationMap)\n",
        "\n",
        "for i in range(0,2):\n",
        "  index = random.randint(0, len(listOfFilesStimText))\n",
        "  print(index)\n",
        "  path = os.path.join(stimuliText, listOfFilesStimText[index])\n",
        "  shutil.move(path, outDir)\n",
        "  path = os.path.join(eyeFixationDir, listOfFilesStimText[index])\n",
        "  shutil.move(path, outDirEyeFixationMap)\n",
        "\n",
        "\n",
        "\n",
        "\n",
        "\n"
      ],
      "execution_count": 6,
      "outputs": [
        {
          "output_type": "stream",
          "text": [
            "['airbnb.png', 'bing_home.png', 'deviantart_furniture.png', 'deviantart_HP.png', 'deviantart_limo_ad.png', 'deviantart_webdsgn(1).png', 'deviantart_webdsgn(3).png', 'deviantart_wedding.png', 'deviantart_wine.png', 'flickr_explore.png', 'htc.png', 'insta_blog.png', 'netflix.png', 'pinterest_2.png', 'apple(3).png', 'deviantart_webdsgn.png', 'bbc_weather.png', 'apple.png', 'dodohub1.png', 'deviantart_car.png', 'cnn_video.png', 'deviantart.png', 'best_design.png', 'coursera.png', 'dropbox.png', 'deviantart_product_cata.png', 'google_giving.png', 'microsoft_windows.png', 'imdb_hc.png', 'imgur.png', 'google_org.png', 'microsoft_xbox.png', 'microsoft_skype.png', 'lg.png', 'instagram-profile.png', 'intel.png', 'lenovo.png', 'moc.png', 'nus.png', 'zite.png', 'science_news.png', 'universal_studio.png', 'Thumbs.db', 'picasa.png', 'red_dot.png', 'vogue.png', 'westcoast.png', 'yoursg_browse.png']\n",
            "25\n",
            "33\n",
            "39\n",
            "14\n",
            "41\n",
            "12\n",
            "30\n",
            "17\n"
          ],
          "name": "stdout"
        }
      ]
    }
  ]
}